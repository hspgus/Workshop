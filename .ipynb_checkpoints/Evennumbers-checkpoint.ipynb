{
 "cells": [
  {
   "cell_type": "code",
   "execution_count": 67,
   "metadata": {
    "collapsed": false
   },
   "outputs": [
    {
     "data": {
      "text/plain": [
       "True"
      ]
     },
     "execution_count": 67,
     "metadata": {},
     "output_type": "execute_result"
    }
   ],
   "source": [
    "def isEven(n):\n",
    "    return n % 2 == 0\n",
    "\n",
    "isEven(8)"
   ]
  },
  {
   "cell_type": "code",
   "execution_count": 68,
   "metadata": {
    "collapsed": true
   },
   "outputs": [],
   "source": [
    "nums = range(100)"
   ]
  },
  {
   "cell_type": "code",
   "execution_count": 69,
   "metadata": {
    "collapsed": false
   },
   "outputs": [
    {
     "name": "stdout",
     "output_type": "stream",
     "text": [
      "0\n",
      "n1\n",
      "2\n",
      "n1\n",
      "4\n",
      "n1\n",
      "6\n",
      "n1\n",
      "8\n",
      "n1\n",
      "10\n",
      "n1\n",
      "12\n",
      "n1\n",
      "14\n",
      "n1\n",
      "16\n",
      "n1\n",
      "18\n",
      "n1\n",
      "20\n",
      "n1\n",
      "22\n",
      "n1\n",
      "24\n",
      "n1\n",
      "26\n",
      "n1\n",
      "28\n",
      "n1\n",
      "30\n",
      "n1\n",
      "32\n",
      "n1\n",
      "34\n",
      "n1\n",
      "36\n",
      "n1\n",
      "38\n",
      "n1\n",
      "40\n",
      "n1\n",
      "42\n",
      "n1\n",
      "44\n",
      "n1\n",
      "46\n",
      "n1\n",
      "48\n",
      "n1\n",
      "50\n",
      "n1\n",
      "52\n",
      "n1\n",
      "54\n",
      "n1\n",
      "56\n",
      "n1\n",
      "58\n",
      "n1\n",
      "60\n",
      "n1\n",
      "62\n",
      "n1\n",
      "64\n",
      "n1\n",
      "66\n",
      "n1\n",
      "68\n",
      "n1\n",
      "70\n",
      "n1\n",
      "72\n",
      "n1\n",
      "74\n",
      "n1\n",
      "76\n",
      "n1\n",
      "78\n",
      "n1\n",
      "80\n",
      "n1\n",
      "82\n",
      "n1\n",
      "84\n",
      "n1\n",
      "86\n",
      "n1\n",
      "88\n",
      "n1\n",
      "90\n",
      "n1\n",
      "92\n",
      "n1\n",
      "94\n",
      "n1\n",
      "96\n",
      "n1\n",
      "98\n",
      "n1\n"
     ]
    }
   ],
   "source": [
    "for n in nums:\n",
    "    if isEven(n):\n",
    "        print(n)\n",
    "    else:\n",
    "        print(\"n\"+\"1\")"
   ]
  }
 ],
 "metadata": {
  "kernelspec": {
   "display_name": "Python 3",
   "language": "python",
   "name": "python3"
  },
  "language_info": {
   "codemirror_mode": {
    "name": "ipython",
    "version": 3
   },
   "file_extension": ".py",
   "mimetype": "text/x-python",
   "name": "python",
   "nbconvert_exporter": "python",
   "pygments_lexer": "ipython3",
   "version": "3.5.1"
  }
 },
 "nbformat": 4,
 "nbformat_minor": 0
}
